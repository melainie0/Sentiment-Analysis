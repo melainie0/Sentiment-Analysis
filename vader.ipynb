{
  "nbformat": 4,
  "nbformat_minor": 0,
  "metadata": {
    "colab": {
      "provenance": [],
      "authorship_tag": "ABX9TyOR7A+p+pm7TUXBox6N6cpD"
    },
    "kernelspec": {
      "name": "python3",
      "display_name": "Python 3"
    },
    "language_info": {
      "name": "python"
    }
  },
  "cells": [
    {
      "cell_type": "code",
      "execution_count": 1,
      "metadata": {
        "colab": {
          "base_uri": "https://localhost:8080/"
        },
        "id": "Hld3RfLWfLZ7",
        "outputId": "0d3b2308-dbf4-4f5d-aa0c-ea5d61b3190b"
      },
      "outputs": [
        {
          "output_type": "stream",
          "name": "stdout",
          "text": [
            "Collecting vaderSentiment\n",
            "  Downloading vaderSentiment-3.3.2-py2.py3-none-any.whl (125 kB)\n",
            "\u001b[2K     \u001b[90m━━━━━━━━━━━━━━━━━━━━━━━━━━━━━━━━━━━━━━━━\u001b[0m \u001b[32m126.0/126.0 kB\u001b[0m \u001b[31m2.0 MB/s\u001b[0m eta \u001b[36m0:00:00\u001b[0m\n",
            "\u001b[?25hRequirement already satisfied: requests in /usr/local/lib/python3.10/dist-packages (from vaderSentiment) (2.31.0)\n",
            "Requirement already satisfied: charset-normalizer<4,>=2 in /usr/local/lib/python3.10/dist-packages (from requests->vaderSentiment) (3.3.0)\n",
            "Requirement already satisfied: idna<4,>=2.5 in /usr/local/lib/python3.10/dist-packages (from requests->vaderSentiment) (3.4)\n",
            "Requirement already satisfied: urllib3<3,>=1.21.1 in /usr/local/lib/python3.10/dist-packages (from requests->vaderSentiment) (2.0.7)\n",
            "Requirement already satisfied: certifi>=2017.4.17 in /usr/local/lib/python3.10/dist-packages (from requests->vaderSentiment) (2023.7.22)\n",
            "Installing collected packages: vaderSentiment\n",
            "Successfully installed vaderSentiment-3.3.2\n"
          ]
        }
      ],
      "source": [
        "! pip install vaderSentiment"
      ]
    },
    {
      "cell_type": "code",
      "source": [
        "from vaderSentiment.vaderSentiment import SentimentIntensityAnalyzer"
      ],
      "metadata": {
        "id": "IWzjHSGLh-BW"
      },
      "execution_count": 3,
      "outputs": []
    },
    {
      "cell_type": "code",
      "source": [
        "obj = SentimentIntensityAnalyzer()"
      ],
      "metadata": {
        "id": "54dSC4pCiXV6"
      },
      "execution_count": 4,
      "outputs": []
    },
    {
      "cell_type": "code",
      "source": [
        "sentence = \"Ram is a good boy\"\n",
        "sentiment_dict = obj.polarity_scores(sentence)\n",
        "print(sentiment_dict)"
      ],
      "metadata": {
        "colab": {
          "base_uri": "https://localhost:8080/"
        },
        "id": "4eqAdgJDixGP",
        "outputId": "2a957f97-2f13-4ea6-c396-50a478103e29"
      },
      "execution_count": 6,
      "outputs": [
        {
          "output_type": "stream",
          "name": "stdout",
          "text": [
            "{'neg': 0.0, 'neu': 0.58, 'pos': 0.42, 'compound': 0.4404}\n"
          ]
        }
      ]
    },
    {
      "cell_type": "code",
      "source": [
        "sentence = \"Rahul is really bad\"\n",
        "sentiment_dict = obj.polarity_scores(sentence)\n",
        "print(sentiment_dict)"
      ],
      "metadata": {
        "colab": {
          "base_uri": "https://localhost:8080/"
        },
        "id": "0pnYzeJ8jVKD",
        "outputId": "161da202-bf8e-4454-8287-bace3513019e"
      },
      "execution_count": 7,
      "outputs": [
        {
          "output_type": "stream",
          "name": "stdout",
          "text": [
            "{'neg': 0.558, 'neu': 0.442, 'pos': 0.0, 'compound': -0.5849}\n"
          ]
        }
      ]
    },
    {
      "cell_type": "markdown",
      "source": [
        "Things which manipulate the Sentiment score"
      ],
      "metadata": {
        "id": "ksN2P4SJj6Ud"
      }
    },
    {
      "cell_type": "markdown",
      "source": [
        "1) PUNCTUATIONS: It increases the intensity"
      ],
      "metadata": {
        "id": "2WSUZHaqkBZz"
      }
    },
    {
      "cell_type": "code",
      "source": [
        "print(obj.polarity_scores('Ram is good boy'))\n",
        "print(obj.polarity_scores('Ram is good boy!'))\n",
        "print(obj.polarity_scores('Ram is good boy!!'))"
      ],
      "metadata": {
        "colab": {
          "base_uri": "https://localhost:8080/"
        },
        "id": "K3Glhdd_kALM",
        "outputId": "cfdc5fcd-5a88-4802-a0a0-d665c3cb24bc"
      },
      "execution_count": 8,
      "outputs": [
        {
          "output_type": "stream",
          "name": "stdout",
          "text": [
            "{'neg': 0.0, 'neu': 0.508, 'pos': 0.492, 'compound': 0.4404}\n",
            "{'neg': 0.0, 'neu': 0.484, 'pos': 0.516, 'compound': 0.4926}\n",
            "{'neg': 0.0, 'neu': 0.463, 'pos': 0.537, 'compound': 0.5399}\n"
          ]
        }
      ]
    },
    {
      "cell_type": "markdown",
      "source": [
        "2) CAPITALIZATION: It increases the intensity"
      ],
      "metadata": {
        "id": "t2YkJ3p_kcPV"
      }
    },
    {
      "cell_type": "code",
      "source": [
        "print(obj.polarity_scores('Ram is good'))\n",
        "print(obj.polarity_scores('Ram is GOOD'))"
      ],
      "metadata": {
        "id": "-DGw2OY3kg3X"
      },
      "execution_count": null,
      "outputs": []
    },
    {
      "cell_type": "markdown",
      "source": [
        "3) DEGREE MODIFIERS"
      ],
      "metadata": {
        "id": "2lH7r0dEkpnD"
      }
    },
    {
      "cell_type": "code",
      "source": [
        "print(obj.polarity_scores('Ram is good'))\n",
        "print(obj.polarity_scores('Ram is very good'))"
      ],
      "metadata": {
        "colab": {
          "base_uri": "https://localhost:8080/"
        },
        "id": "ERqQMUkmkvoU",
        "outputId": "193adc8f-b169-4eed-9625-2811a7e8c5df"
      },
      "execution_count": 10,
      "outputs": [
        {
          "output_type": "stream",
          "name": "stdout",
          "text": [
            "{'neg': 0.0, 'neu': 0.408, 'pos': 0.592, 'compound': 0.4404}\n",
            "{'neg': 0.0, 'neu': 0.484, 'pos': 0.516, 'compound': 0.4927}\n"
          ]
        }
      ]
    },
    {
      "cell_type": "markdown",
      "source": [
        "4) CONJUNCTIONS"
      ],
      "metadata": {
        "id": "VaHOuQOik8IF"
      }
    },
    {
      "cell_type": "code",
      "source": [
        "print(obj.polarity_scores('Ram is good'))\n",
        "print(obj.polarity_scores('Ram is good, but he is also naughty sometimes'))"
      ],
      "metadata": {
        "colab": {
          "base_uri": "https://localhost:8080/"
        },
        "id": "u_UPcqTtk7Hm",
        "outputId": "d56f276e-22c6-4787-9875-0de5d44e9851"
      },
      "execution_count": 11,
      "outputs": [
        {
          "output_type": "stream",
          "name": "stdout",
          "text": [
            "{'neg': 0.0, 'neu': 0.408, 'pos': 0.592, 'compound': 0.4404}\n",
            "{'neg': 0.0, 'neu': 0.804, 'pos': 0.196, 'compound': 0.2382}\n"
          ]
        }
      ]
    },
    {
      "cell_type": "markdown",
      "source": [
        "DOES VADER HANDLES SLANGS AND EMOTIONS ?"
      ],
      "metadata": {
        "id": "0QWkEzgflYly"
      }
    },
    {
      "cell_type": "code",
      "source": [
        "print(obj.polarity_scores('That Hotel'))\n",
        "print(obj.polarity_scores('That Hotel SUX'))"
      ],
      "metadata": {
        "colab": {
          "base_uri": "https://localhost:8080/"
        },
        "id": "-oElEKaGlfsH",
        "outputId": "624815f2-b9e2-4284-f235-8120f53e4b61"
      },
      "execution_count": 12,
      "outputs": [
        {
          "output_type": "stream",
          "name": "stdout",
          "text": [
            "{'neg': 0.0, 'neu': 1.0, 'pos': 0.0, 'compound': 0.0}\n",
            "{'neg': 0.618, 'neu': 0.382, 'pos': 0.0, 'compound': -0.4995}\n"
          ]
        }
      ]
    },
    {
      "cell_type": "code",
      "source": [
        "print(obj.polarity_scores('Your :) is the most beautiful thing I have ever seen'))\n",
        "print(obj.polarity_scores('Your smile is the most beautiful thing I have ever seen'))"
      ],
      "metadata": {
        "colab": {
          "base_uri": "https://localhost:8080/"
        },
        "id": "WqMU89_ulsXQ",
        "outputId": "617465b1-16a7-4433-c6e4-feab3ea48253"
      },
      "execution_count": 13,
      "outputs": [
        {
          "output_type": "stream",
          "name": "stdout",
          "text": [
            "{'neg': 0.0, 'neu': 0.556, 'pos': 0.444, 'compound': 0.8016}\n",
            "{'neg': 0.0, 'neu': 0.574, 'pos': 0.426, 'compound': 0.7713}\n"
          ]
        }
      ]
    },
    {
      "cell_type": "code",
      "source": [],
      "metadata": {
        "id": "6Vonh693l9_Q"
      },
      "execution_count": null,
      "outputs": []
    }
  ]
}